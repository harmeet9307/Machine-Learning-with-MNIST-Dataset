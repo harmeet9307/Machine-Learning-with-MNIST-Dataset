{
 "cells": [
  {
   "cell_type": "code",
   "execution_count": 1,
   "metadata": {},
   "outputs": [],
   "source": [
    "import pandas as pd\n",
    "import numpy as np\n",
    "from sklearn.decomposition import TruncatedSVD\n",
    "import matplotlib.pyplot as plt"
   ]
  },
  {
   "cell_type": "code",
   "execution_count": 2,
   "metadata": {},
   "outputs": [],
   "source": [
    "from sklearn.preprocessing import MinMaxScaler\n",
    "sc=MinMaxScaler()\n",
    "\n",
    "train=pd.read_csv('mnist_train.csv',header=None)\n",
    "x = train.iloc[:, 1:-1].values\n",
    "y = train.iloc[:,0].values\n"
   ]
  },
  {
   "cell_type": "code",
   "execution_count": 3,
   "metadata": {},
   "outputs": [],
   "source": [
    "xtrain=sc.fit_transform(x)\n"
   ]
  },
  {
   "cell_type": "code",
   "execution_count": 4,
   "metadata": {},
   "outputs": [],
   "source": [
    "svd = TruncatedSVD(n_components=750)"
   ]
  },
  {
   "cell_type": "code",
   "execution_count": 5,
   "metadata": {},
   "outputs": [],
   "source": [
    "svd.fit(xtrain)\n",
    "xnew=svd.fit_transform(xtrain)\n"
   ]
  },
  {
   "cell_type": "code",
   "execution_count": 6,
   "metadata": {},
   "outputs": [
    {
     "data": {
      "text/plain": [
       "array([5.80752595e-02, 8.24608842e-02, 7.09493297e-02, 6.11602942e-02,\n",
       "       5.28280164e-02, 4.31896747e-02, 3.62642677e-02, 2.91064698e-02,\n",
       "       2.87864864e-02, 2.36294440e-02, 2.12486517e-02, 2.05027232e-02,\n",
       "       1.71601864e-02, 1.70520509e-02, 1.59039383e-02, 1.48921240e-02,\n",
       "       1.36393484e-02, 1.29534867e-02, 1.18940835e-02, 1.15274210e-02,\n",
       "       1.06622327e-02, 1.00692655e-02, 9.54465597e-03, 9.14562496e-03,\n",
       "       8.84196251e-03, 8.39950958e-03, 8.14253525e-03, 7.86414080e-03,\n",
       "       7.44746055e-03, 6.90961423e-03, 6.58415979e-03, 6.48321500e-03,\n",
       "       6.02919870e-03, 5.90400495e-03, 5.70112645e-03, 5.44270555e-03,\n",
       "       5.05781437e-03, 4.87854544e-03, 4.81450430e-03, 4.72627186e-03,\n",
       "       4.57265123e-03, 4.44908522e-03, 4.20105853e-03, 3.98273835e-03,\n",
       "       3.85456512e-03, 3.75192771e-03, 3.62084762e-03, 3.51740959e-03,\n",
       "       3.40746779e-03, 3.22952789e-03, 3.20430884e-03, 3.13214250e-03,\n",
       "       2.96023876e-03, 2.92153611e-03, 2.84216747e-03, 2.71758952e-03,\n",
       "       2.70328890e-03, 2.58762749e-03, 2.53788273e-03, 2.44788662e-03,\n",
       "       2.40924428e-03, 2.39346736e-03, 2.30432175e-03, 2.21578023e-03,\n",
       "       2.13748373e-03, 2.07870263e-03, 2.03154801e-03, 1.97119201e-03,\n",
       "       1.92851436e-03, 1.88647023e-03, 1.86979563e-03, 1.82518021e-03,\n",
       "       1.77555965e-03, 1.74939628e-03, 1.65756187e-03, 1.63971771e-03,\n",
       "       1.61512168e-03, 1.55210566e-03, 1.47660043e-03, 1.43170817e-03,\n",
       "       1.42089175e-03, 1.41407697e-03, 1.40170475e-03, 1.35904427e-03,\n",
       "       1.33920490e-03, 1.32485627e-03, 1.30551437e-03, 1.25933731e-03,\n",
       "       1.23132654e-03, 1.21673547e-03, 1.17244211e-03, 1.14934910e-03,\n",
       "       1.13393690e-03, 1.10889187e-03, 1.09068593e-03, 1.06939767e-03,\n",
       "       1.04193151e-03, 1.04072307e-03, 1.01315601e-03, 1.00559385e-03,\n",
       "       9.84106020e-04, 9.50452773e-04, 9.42485815e-04, 9.16339866e-04,\n",
       "       9.07887688e-04, 8.98089515e-04, 8.65360206e-04, 8.56870613e-04,\n",
       "       8.45734011e-04, 8.22517697e-04, 7.94203874e-04, 7.87099574e-04,\n",
       "       7.85734767e-04, 7.70414308e-04, 7.64136893e-04, 7.54267090e-04,\n",
       "       7.36756946e-04, 7.27286676e-04, 7.19628496e-04, 7.06836750e-04,\n",
       "       6.97016462e-04, 6.93317045e-04, 6.83284949e-04, 6.74167825e-04,\n",
       "       6.66990640e-04, 6.45509148e-04, 6.35842794e-04, 6.31801465e-04,\n",
       "       6.25315214e-04, 6.05382733e-04, 6.04248208e-04, 5.94463542e-04,\n",
       "       5.88368808e-04, 5.86713919e-04, 5.81321259e-04, 5.77069533e-04,\n",
       "       5.65390063e-04, 5.54870489e-04, 5.35254782e-04, 5.26117573e-04,\n",
       "       5.25184454e-04, 5.10383154e-04, 5.02954966e-04, 5.01066640e-04,\n",
       "       4.98938588e-04, 4.91056390e-04, 4.86562807e-04, 4.82885750e-04,\n",
       "       4.74062140e-04, 4.68522986e-04, 4.66614060e-04, 4.63312068e-04,\n",
       "       4.59286715e-04, 4.50364401e-04, 4.48836816e-04, 4.42714457e-04,\n",
       "       4.36666141e-04, 4.27520995e-04, 4.25409902e-04, 4.22069789e-04,\n",
       "       4.15622463e-04, 4.09635323e-04, 4.00810260e-04, 3.97881067e-04,\n",
       "       3.94138678e-04, 3.90614577e-04, 3.86058370e-04, 3.80029753e-04,\n",
       "       3.79123742e-04, 3.74245377e-04, 3.69499381e-04, 3.65172313e-04,\n",
       "       3.63805377e-04, 3.59865430e-04, 3.54636645e-04, 3.52973083e-04,\n",
       "       3.47386856e-04, 3.45973866e-04, 3.41461670e-04, 3.37827637e-04,\n",
       "       3.37480512e-04, 3.30229502e-04, 3.28998207e-04, 3.25913330e-04,\n",
       "       3.22944495e-04, 3.21264720e-04, 3.17382622e-04, 3.16175090e-04,\n",
       "       3.11015752e-04, 3.09531740e-04, 3.06102928e-04, 3.03405305e-04,\n",
       "       3.02439074e-04, 3.01625362e-04, 2.96873469e-04, 2.95747647e-04,\n",
       "       2.93463394e-04, 2.92756078e-04, 2.87743374e-04, 2.84379920e-04,\n",
       "       2.81958074e-04, 2.79105106e-04, 2.75750128e-04, 2.72472194e-04,\n",
       "       2.69433179e-04, 2.67704728e-04, 2.65214916e-04, 2.64325696e-04,\n",
       "       2.61880242e-04, 2.59461141e-04, 2.58668595e-04, 2.56914502e-04,\n",
       "       2.54753844e-04, 2.52878603e-04, 2.52301808e-04, 2.49620444e-04,\n",
       "       2.48518979e-04, 2.46143892e-04, 2.43977716e-04, 2.41858038e-04,\n",
       "       2.40960937e-04, 2.40436270e-04, 2.38308235e-04, 2.36880441e-04,\n",
       "       2.32572334e-04, 2.31302599e-04, 2.30148133e-04, 2.28080488e-04,\n",
       "       2.27590224e-04, 2.22781293e-04, 2.21857041e-04, 2.20468666e-04,\n",
       "       2.17865905e-04, 2.16652181e-04, 2.15254206e-04, 2.14250966e-04,\n",
       "       2.12861915e-04, 2.10367802e-04, 2.09773674e-04, 2.06954818e-04,\n",
       "       2.04718668e-04, 2.04265787e-04, 2.01310236e-04, 2.01007461e-04,\n",
       "       1.98993200e-04, 1.97666151e-04, 1.95832169e-04, 1.93787642e-04,\n",
       "       1.92936469e-04, 1.91786978e-04, 1.91601934e-04, 1.89075527e-04,\n",
       "       1.88011998e-04, 1.86390646e-04, 1.85867103e-04, 1.84616233e-04,\n",
       "       1.83709286e-04, 1.83145539e-04, 1.81889843e-04, 1.79868106e-04,\n",
       "       1.77555091e-04, 1.76685697e-04, 1.75958733e-04, 1.73901867e-04,\n",
       "       1.73437433e-04, 1.72656647e-04, 1.71382316e-04, 1.70045065e-04,\n",
       "       1.69384108e-04, 1.68008369e-04, 1.66927321e-04, 1.66450310e-04,\n",
       "       1.64212884e-04, 1.63479046e-04, 1.62667719e-04, 1.61898414e-04,\n",
       "       1.60896977e-04, 1.59842475e-04, 1.58833690e-04, 1.57349225e-04,\n",
       "       1.56744009e-04, 1.54915971e-04, 1.53807214e-04, 1.53064867e-04,\n",
       "       1.52065253e-04, 1.50042478e-04, 1.49711126e-04, 1.48227319e-04,\n",
       "       1.47685185e-04, 1.46124430e-04, 1.44649238e-04, 1.43280285e-04,\n",
       "       1.42746363e-04, 1.42070027e-04, 1.41747053e-04, 1.40489608e-04,\n",
       "       1.38238181e-04, 1.37973214e-04, 1.36837794e-04, 1.35977418e-04,\n",
       "       1.35793688e-04, 1.34521141e-04, 1.33629973e-04, 1.32342440e-04,\n",
       "       1.30704652e-04, 1.30188571e-04, 1.29161406e-04, 1.28116920e-04,\n",
       "       1.27515679e-04, 1.27228539e-04, 1.26345262e-04, 1.25864781e-04,\n",
       "       1.24734192e-04, 1.23566232e-04, 1.22621827e-04, 1.21575876e-04,\n",
       "       1.21028153e-04, 1.19968524e-04, 1.19422727e-04, 1.18949056e-04,\n",
       "       1.17871679e-04, 1.17072177e-04, 1.16495072e-04, 1.16104331e-04,\n",
       "       1.14537118e-04, 1.14215798e-04, 1.12406200e-04, 1.11294795e-04,\n",
       "       1.10539785e-04, 1.10431488e-04, 1.10059959e-04, 1.08987278e-04,\n",
       "       1.08335281e-04, 1.07596046e-04, 1.07018714e-04, 1.06208218e-04,\n",
       "       1.05934893e-04, 1.05060841e-04, 1.03420242e-04, 1.02249712e-04,\n",
       "       1.02046160e-04, 1.00849213e-04, 1.00268707e-04, 9.96044279e-05,\n",
       "       9.93718697e-05, 9.81246258e-05, 9.75958650e-05, 9.68321123e-05,\n",
       "       9.55300109e-05, 9.45448555e-05, 9.38083951e-05, 9.37232187e-05,\n",
       "       9.24930088e-05, 9.15858735e-05, 9.13996742e-05, 9.06783295e-05,\n",
       "       9.00759666e-05, 8.93712155e-05, 8.91549545e-05, 8.82615693e-05,\n",
       "       8.73316047e-05, 8.63124363e-05, 8.55771899e-05, 8.51607332e-05,\n",
       "       8.46001739e-05, 8.33130654e-05, 8.29841985e-05, 8.25036551e-05,\n",
       "       8.19185499e-05, 8.10934934e-05, 8.09057512e-05, 7.96195546e-05,\n",
       "       7.94706461e-05, 7.86299894e-05, 7.80644098e-05, 7.74270728e-05,\n",
       "       7.65923805e-05, 7.58098749e-05, 7.46302182e-05, 7.38487139e-05,\n",
       "       7.35732207e-05, 7.28179430e-05, 7.27163646e-05, 7.20696764e-05,\n",
       "       7.14203494e-05, 7.08123974e-05, 6.96620792e-05, 6.92482876e-05,\n",
       "       6.83133096e-05, 6.79466384e-05, 6.70653298e-05, 6.62523562e-05,\n",
       "       6.52451287e-05, 6.42051326e-05, 6.37147900e-05, 6.34562055e-05,\n",
       "       6.20474496e-05, 6.12885211e-05, 6.03304725e-05, 5.99366328e-05,\n",
       "       5.93878375e-05, 5.87337270e-05, 5.86270103e-05, 5.73934473e-05,\n",
       "       5.67437486e-05, 5.64035218e-05, 5.56451164e-05, 5.49207233e-05,\n",
       "       5.47711761e-05, 5.44769814e-05, 5.33410169e-05, 5.27634230e-05,\n",
       "       5.25529836e-05, 5.22039701e-05, 5.18624981e-05, 5.10390198e-05,\n",
       "       5.03846591e-05, 4.97581748e-05, 4.90853840e-05, 4.87101250e-05,\n",
       "       4.79630117e-05, 4.72131122e-05, 4.66636587e-05, 4.64519882e-05,\n",
       "       4.56043876e-05, 4.49140429e-05, 4.37177056e-05, 4.29422600e-05,\n",
       "       4.26089086e-05, 4.23938792e-05, 4.21807571e-05, 4.18033523e-05,\n",
       "       4.13896481e-05, 4.08486412e-05, 4.02928772e-05, 3.86189543e-05,\n",
       "       3.82767552e-05, 3.81458175e-05, 3.78962555e-05, 3.73623858e-05,\n",
       "       3.70855155e-05, 3.65948044e-05, 3.57693437e-05, 3.53630872e-05,\n",
       "       3.52669748e-05, 3.48805869e-05, 3.45566323e-05, 3.44067012e-05,\n",
       "       3.34112219e-05, 3.30234980e-05, 3.22031430e-05, 3.19471146e-05,\n",
       "       3.16506624e-05, 3.10187262e-05, 3.04251940e-05, 3.01661743e-05,\n",
       "       2.99112160e-05, 2.92390847e-05, 2.88696932e-05, 2.85236687e-05,\n",
       "       2.80754690e-05, 2.79379648e-05, 2.75564929e-05, 2.69650531e-05,\n",
       "       2.57857385e-05, 2.53112534e-05, 2.51751247e-05, 2.48450848e-05,\n",
       "       2.47213507e-05, 2.44012066e-05, 2.43444767e-05, 2.42643943e-05,\n",
       "       2.37390538e-05, 2.33701800e-05, 2.32401295e-05, 2.25693947e-05,\n",
       "       2.23758942e-05, 2.21332736e-05, 2.14584134e-05, 2.13068022e-05,\n",
       "       2.10790046e-05, 2.08622746e-05, 2.03858892e-05, 2.00935713e-05,\n",
       "       1.98781568e-05, 1.96338779e-05, 1.95288650e-05, 1.89824654e-05,\n",
       "       1.84668310e-05, 1.81964775e-05, 1.81166766e-05, 1.79715227e-05,\n",
       "       1.76072504e-05, 1.74397967e-05, 1.63934048e-05, 1.61939045e-05,\n",
       "       1.61304963e-05, 1.59352705e-05, 1.55616042e-05, 1.52792757e-05,\n",
       "       1.51769354e-05, 1.50039043e-05, 1.47703194e-05, 1.45915531e-05,\n",
       "       1.43748645e-05, 1.41837769e-05, 1.39846760e-05, 1.38040953e-05,\n",
       "       1.36976182e-05, 1.34240915e-05, 1.31917105e-05, 1.26190419e-05,\n",
       "       1.24019441e-05, 1.22134350e-05, 1.20619763e-05, 1.19401099e-05,\n",
       "       1.18052355e-05, 1.17426485e-05, 1.13991992e-05, 1.13347678e-05,\n",
       "       1.12712342e-05, 1.10335672e-05, 1.09636359e-05, 1.06115511e-05,\n",
       "       1.05973860e-05, 1.02558796e-05, 1.01081963e-05, 9.58892986e-06,\n",
       "       9.38751364e-06, 9.33232086e-06, 9.30090247e-06, 8.89594663e-06,\n",
       "       8.85512479e-06, 8.64039025e-06, 8.22502957e-06, 7.98253410e-06,\n",
       "       7.88020763e-06, 7.75784745e-06, 7.70556469e-06, 7.61514099e-06,\n",
       "       7.57531917e-06, 7.40639947e-06, 7.36365381e-06, 7.16662129e-06,\n",
       "       7.03764282e-06, 6.92877897e-06, 6.75455214e-06, 6.73745745e-06,\n",
       "       6.61185064e-06, 6.51349821e-06, 6.26764988e-06, 5.95684225e-06,\n",
       "       5.77687755e-06, 5.71400825e-06, 5.62179447e-06, 5.39542827e-06,\n",
       "       5.35629188e-06, 5.23242109e-06, 5.11707216e-06, 5.08275023e-06,\n",
       "       5.04032708e-06, 4.93110961e-06, 4.84772243e-06, 4.72206887e-06,\n",
       "       4.67926297e-06, 4.62618125e-06, 4.27240819e-06, 4.24808941e-06,\n",
       "       4.13134804e-06, 4.05905216e-06, 3.97916569e-06, 3.95086713e-06,\n",
       "       3.87511728e-06, 3.37391379e-06, 3.32745440e-06, 3.27670226e-06,\n",
       "       3.24769434e-06, 3.22955997e-06, 3.19715287e-06, 3.12458984e-06,\n",
       "       3.08125043e-06, 3.05314557e-06, 3.03720102e-06, 2.98564393e-06,\n",
       "       2.88159788e-06, 2.69688112e-06, 2.62382941e-06, 2.45361673e-06,\n",
       "       2.42292810e-06, 2.36363474e-06, 2.30016977e-06, 2.28132759e-06,\n",
       "       2.26843342e-06, 2.24419291e-06, 2.22611073e-06, 2.14866199e-06,\n",
       "       2.12828492e-06, 2.11198096e-06, 1.98662012e-06, 1.97202423e-06,\n",
       "       1.96801180e-06, 1.95747783e-06, 1.90220723e-06, 1.81273740e-06,\n",
       "       1.80248047e-06, 1.78250177e-06, 1.73932176e-06, 1.70179567e-06,\n",
       "       1.68185355e-06, 1.67071839e-06, 1.50243869e-06, 1.43701966e-06,\n",
       "       1.42827072e-06, 1.40515058e-06, 1.39636435e-06, 1.38411433e-06,\n",
       "       1.32635908e-06, 1.28340938e-06, 1.26841118e-06, 1.26223416e-06,\n",
       "       1.23373504e-06, 1.22516340e-06, 1.20368879e-06, 1.18519696e-06,\n",
       "       1.17271072e-06, 1.13309772e-06, 1.12095789e-06, 1.08633988e-06,\n",
       "       1.05280637e-06, 1.01468202e-06, 1.01016606e-06, 1.00468575e-06,\n",
       "       9.91765255e-07, 9.64489099e-07, 9.31178180e-07, 9.18591686e-07,\n",
       "       8.80066922e-07, 8.62996772e-07, 8.31088884e-07, 8.20059356e-07,\n",
       "       8.07350823e-07, 8.03137881e-07, 7.95302116e-07, 7.31134172e-07,\n",
       "       7.19912227e-07, 6.83077898e-07, 6.76411894e-07, 6.74392296e-07,\n",
       "       6.56009467e-07, 6.54389058e-07, 6.41045836e-07, 6.31848773e-07,\n",
       "       6.28418503e-07, 6.18565875e-07, 6.16120963e-07, 5.91213382e-07,\n",
       "       5.85671215e-07, 5.79753866e-07, 5.60122170e-07, 5.46945428e-07,\n",
       "       5.44543480e-07, 5.25335832e-07, 5.23504436e-07, 5.10977673e-07,\n",
       "       4.39733741e-07, 4.33637526e-07, 4.16277384e-07, 4.14377040e-07,\n",
       "       4.08301893e-07, 4.02555041e-07, 3.97935350e-07, 3.71005129e-07,\n",
       "       3.64966621e-07, 3.60966398e-07, 3.41728242e-07, 3.21172071e-07,\n",
       "       3.15334843e-07, 3.14831298e-07, 3.11297916e-07, 3.10419354e-07,\n",
       "       2.97844339e-07, 2.89608582e-07, 2.82997494e-07, 2.74600088e-07,\n",
       "       2.67765597e-07, 2.27298792e-07, 2.23749838e-07, 2.23515224e-07,\n",
       "       2.19438184e-07, 2.15367830e-07, 2.03151416e-07, 2.00835997e-07,\n",
       "       1.65925101e-07, 1.63565314e-07, 1.55705252e-07, 1.45937999e-07,\n",
       "       1.28528232e-07, 1.21679675e-07, 1.20914719e-07, 1.08081957e-07,\n",
       "       1.05765837e-07, 9.10702517e-08, 8.86449723e-08, 8.43652422e-08,\n",
       "       6.23098975e-08, 5.47301822e-08, 4.64176050e-08, 1.92633674e-08,\n",
       "       1.15772001e-08, 4.51101079e-09, 2.39346052e-09, 2.15725550e-09,\n",
       "       1.42471874e-31, 7.21265240e-33, 7.21265420e-33, 7.21265422e-33,\n",
       "       7.21264810e-33, 7.21265096e-33, 7.21265069e-33, 7.21264605e-33,\n",
       "       7.21265023e-33, 7.21265004e-33, 7.21265365e-33, 7.21265402e-33,\n",
       "       7.21262405e-33, 7.21264660e-33, 7.21263846e-33, 7.21265309e-33,\n",
       "       7.21263237e-33, 7.21265252e-33, 7.21265150e-33, 7.21265426e-33,\n",
       "       7.21265384e-33, 7.21264716e-33, 7.21264736e-33, 7.21265292e-33,\n",
       "       7.21265366e-33, 7.21265342e-33, 7.21265426e-33, 7.21263231e-33,\n",
       "       7.21264665e-33, 7.21262796e-33, 7.21265357e-33, 7.21264723e-33,\n",
       "       7.21264696e-33, 7.21265386e-33, 7.21263234e-33, 7.21265113e-33,\n",
       "       7.21264991e-33, 7.21263562e-33])"
      ]
     },
     "execution_count": 6,
     "metadata": {},
     "output_type": "execute_result"
    }
   ],
   "source": [
    "var=svd.explained_variance_ratio_\n",
    "var"
   ]
  },
  {
   "cell_type": "code",
   "execution_count": 7,
   "metadata": {},
   "outputs": [],
   "source": [
    "#I am defining a function that calculates the number of components to explain a specific variance for the ease of this task\n",
    "\n",
    "def select_n_components(exp_var_ratio, target_var: float) -> int:\n",
    "    # Set initial variance explained so far\n",
    "    total_variance = 0.0\n",
    "    \n",
    "    # Set initial number of features\n",
    "    n_components = 0\n",
    "    \n",
    "    # For the explained variance of each feature:\n",
    "    for explained_variance in exp_var_ratio:\n",
    "        \n",
    "        # Add the explained variance to the total\n",
    "        total_variance += explained_variance\n",
    "        \n",
    "        # Add one to the number of components\n",
    "        n_components += 1\n",
    "        \n",
    "        # If we reach our goal level of explained variance\n",
    "        if total_variance >= target_var:\n",
    "            # End the loop\n",
    "            break\n",
    "            \n",
    "    # Return the number of components\n",
    "    return n_components"
   ]
  },
  {
   "cell_type": "code",
   "execution_count": 8,
   "metadata": {},
   "outputs": [
    {
     "data": {
      "text/plain": [
       "87"
      ]
     },
     "execution_count": 8,
     "metadata": {},
     "output_type": "execute_result"
    }
   ],
   "source": [
    "select_n_components(var,0.90)"
   ]
  },
  {
   "cell_type": "markdown",
   "metadata": {},
   "source": [
    "    For over 90% explained variance in the data, we need to consider > 87 dimensions, i.e. 88 components"
   ]
  },
  {
   "cell_type": "markdown",
   "metadata": {},
   "source": [
    "    Starting SVD on test set"
   ]
  },
  {
   "cell_type": "code",
   "execution_count": 7,
   "metadata": {},
   "outputs": [],
   "source": [
    "test=pd.read_csv('mnist_test.csv',header=None)\n",
    "X1 = test.iloc[:, 1:-1].values\n",
    "Y1= test.iloc[:,0].values\n",
    "Xtest=sc.fit_transform(X1)\n",
    "A=np.unique(Y1)"
   ]
  },
  {
   "cell_type": "code",
   "execution_count": 8,
   "metadata": {},
   "outputs": [],
   "source": [
    "svdT = TruncatedSVD(n_components=2)"
   ]
  },
  {
   "cell_type": "code",
   "execution_count": 9,
   "metadata": {},
   "outputs": [],
   "source": [
    "svdT.fit(Xtest)\n",
    "X_fitted=svdT.fit_transform(Xtest)"
   ]
  },
  {
   "cell_type": "code",
   "execution_count": 20,
   "metadata": {},
   "outputs": [],
   "source": [
    "yunique=np.unique(Y1)"
   ]
  },
  {
   "cell_type": "code",
   "execution_count": null,
   "metadata": {
    "scrolled": true
   },
   "outputs": [],
   "source": []
  },
  {
   "cell_type": "code",
   "execution_count": 22,
   "metadata": {},
   "outputs": [
    {
     "data": {
      "image/png": "[encoded data removed]",
      "text/plain": [
       "<Figure size 432x288 with 1 Axes>"
      ]
     },
     "metadata": {
      "needs_background": "light"
     },
     "output_type": "display_data"
    }
   ],
   "source": [
    "# Lets plot the point on a graph\n",
    "plt.scatter(X_fitted[:,0],X_fitted[:,1],c=Y1)\n",
    "\n",
    "plt.xlabel('Eigenvalues1')\n",
    "plt.ylabel('Eigenvalues2')\n",
    "plt.legend(yunique[:])\n",
    "plt.show()"
   ]
  },
  {
   "cell_type": "markdown",
   "metadata": {},
   "source": [
    "Logistics Regression on test data with and without dimensionality reduction"
   ]
  },
  {
   "cell_type": "code",
   "execution_count": 9,
   "metadata": {},
   "outputs": [],
   "source": [
    "from sklearn.linear_model import LogisticRegression \n",
    "from sklearn.model_selection import train_test_split"
   ]
  },
  {
   "cell_type": "code",
   "execution_count": 48,
   "metadata": {},
   "outputs": [
    {
     "data": {
      "text/plain": [
       "LogisticRegression(C=1.0, class_weight=None, dual=False, fit_intercept=True,\n",
       "                   intercept_scaling=1, l1_ratio=None, max_iter=100,\n",
       "                   multi_class='ovr', n_jobs=None, penalty='l2',\n",
       "                   random_state=None, solver='liblinear', tol=0.0001, verbose=0,\n",
       "                   warm_start=False)"
      ]
     },
     "execution_count": 48,
     "metadata": {},
     "output_type": "execute_result"
    }
   ],
   "source": [
    "x_train, x_test, y_train, y_test = train_test_split(Xtest,Y1,test_size=0.3, random_state=1)\n",
    "lr=LogisticRegression(solver='liblinear',multi_class='ovr')\n",
    "lr.fit(x_train, y_train)"
   ]
  },
  {
   "cell_type": "code",
   "execution_count": 49,
   "metadata": {},
   "outputs": [
    {
     "name": "stdout",
     "output_type": "stream",
     "text": [
      "0.9093333333333333\n"
     ]
    }
   ],
   "source": [
    "#Making predictions and testing the accuracy vs the labels\n",
    "prediction1=lr.predict(x_test)\n",
    "score1=lr.score(x_test, y_test)\n",
    "print(score1)"
   ]
  },
  {
   "cell_type": "code",
   "execution_count": 50,
   "metadata": {},
   "outputs": [
    {
     "data": {
      "text/plain": [
       "LogisticRegression(C=1.0, class_weight=None, dual=False, fit_intercept=True,\n",
       "                   intercept_scaling=1, l1_ratio=None, max_iter=100,\n",
       "                   multi_class='ovr', n_jobs=None, penalty='l2',\n",
       "                   random_state=None, solver='liblinear', tol=0.0001, verbose=0,\n",
       "                   warm_start=False)"
      ]
     },
     "execution_count": 50,
     "metadata": {},
     "output_type": "execute_result"
    }
   ],
   "source": [
    "#Applying the same to the data retrieved after SVD\n",
    "x_train, x_test, y_train, y_test = train_test_split(X_fitted,Y1,test_size=0.3, random_state=1)\n",
    "lr=LogisticRegression(solver='liblinear',multi_class='ovr')\n",
    "lr.fit(x_train, y_train)"
   ]
  },
  {
   "cell_type": "code",
   "execution_count": 51,
   "metadata": {},
   "outputs": [
    {
     "name": "stdout",
     "output_type": "stream",
     "text": [
      "0.344\n"
     ]
    }
   ],
   "source": [
    "prediction2=lr.predict(x_test)\n",
    "score2=lr.score(x_test, y_test)\n",
    "print(score2)"
   ]
  },
  {
   "cell_type": "markdown",
   "metadata": {},
   "source": [
    "For the Logistic regression model, the accuracy for the full test set is 90.93% but the SVD reduced model is only 34.4%.\n",
    "Thus Logistic regression is not very accurate with dimentionally reduced data. "
   ]
  },
  {
   "cell_type": "code",
   "execution_count": null,
   "metadata": {},
   "outputs": [],
   "source": []
  },
  {
   "cell_type": "markdown",
   "metadata": {},
   "source": [
    "Lets try KNN on both the sets now."
   ]
  },
  {
   "cell_type": "code",
   "execution_count": 53,
   "metadata": {},
   "outputs": [],
   "source": [
    "from sklearn.neighbors import KNeighborsClassifier\n",
    "KNN=KNeighborsClassifier()"
   ]
  },
  {
   "cell_type": "code",
   "execution_count": 54,
   "metadata": {},
   "outputs": [
    {
     "data": {
      "text/plain": [
       "KNeighborsClassifier(algorithm='auto', leaf_size=30, metric='minkowski',\n",
       "                     metric_params=None, n_jobs=None, n_neighbors=5, p=2,\n",
       "                     weights='uniform')"
      ]
     },
     "execution_count": 54,
     "metadata": {},
     "output_type": "execute_result"
    }
   ],
   "source": [
    "#Prediction using the full test set\n",
    "x_train, x_test, y_train, y_test = train_test_split(Xtest,Y1,test_size=0.3, random_state=1)\n",
    "KNN.fit(x_train, y_train)"
   ]
  },
  {
   "cell_type": "code",
   "execution_count": 56,
   "metadata": {},
   "outputs": [
    {
     "name": "stdout",
     "output_type": "stream",
     "text": [
      "0.951\n"
     ]
    }
   ],
   "source": [
    "predict=KNN.predict(x_test)\n",
    "score3=KNN.score(x_test, y_test)\n",
    "print(score3)"
   ]
  },
  {
   "cell_type": "code",
   "execution_count": 57,
   "metadata": {},
   "outputs": [
    {
     "name": "stdout",
     "output_type": "stream",
     "text": [
      "0.324\n"
     ]
    }
   ],
   "source": [
    "#now trying for SVD reduced test set\n",
    "x_train, x_test, y_train, y_test = train_test_split(X_fitted,Y1,test_size=0.3, random_state=1)\n",
    "KNN.fit(x_train, y_train)\n",
    "predict=KNN.predict(x_test)\n",
    "score4=KNN.score(x_test, y_test)\n",
    "print(score4)"
   ]
  },
  {
   "cell_type": "markdown",
   "metadata": {},
   "source": [
    "The reduced set has an accuracy of 32.4% while the full set is 95.1% accurate with the predictions."
   ]
  },
  {
   "cell_type": "markdown",
   "metadata": {},
   "source": []
  },
  {
   "cell_type": "markdown",
   "metadata": {},
   "source": [
    "Lets try the Naive Bayes classifier now"
   ]
  },
  {
   "cell_type": "code",
   "execution_count": 12,
   "metadata": {},
   "outputs": [],
   "source": [
    "from sklearn.naive_bayes import MultinomialNB\n",
    "naivebayes=MultinomialNB()"
   ]
  },
  {
   "cell_type": "code",
   "execution_count": 13,
   "metadata": {},
   "outputs": [
    {
     "name": "stdout",
     "output_type": "stream",
     "text": [
      "0.8366666666666667\n"
     ]
    }
   ],
   "source": [
    "#Prediction using the full test set with Naive Bayes\n",
    "x_train, x_test, y_train, y_test = train_test_split(Xtest,Y1,test_size=0.3, random_state=1)\n",
    "naivebayes.fit(x_train, y_train)\n",
    "pred=naivebayes.predict(x_test)\n",
    "score4=naivebayes.score(x_test, y_test)\n",
    "print(score4)"
   ]
  },
  {
   "cell_type": "markdown",
   "metadata": {},
   "source": [
    "83.67% accuracy for the Naive bayes model"
   ]
  },
  {
   "cell_type": "code",
   "execution_count": 21,
   "metadata": {},
   "outputs": [
    {
     "name": "stdout",
     "output_type": "stream",
     "text": [
      "0.3416666666666667\n"
     ]
    }
   ],
   "source": [
    "#applying the same for the SVD reduced dataset, doesnt execute because of the -ve values present in the data. So I will be using Gaussian NB instead\n",
    "from sklearn.naive_bayes import GaussianNB\n",
    "gasnb=GaussianNB()\n",
    "x_train, x_test, y_train, y_test = train_test_split(X_fitted,Y1,test_size=0.3, random_state=1)\n",
    "gasnb.fit(x_train, y_train)\n",
    "pred=gasnb.predict(x_test)\n",
    "score5=gasnb.score(x_test, y_test)\n",
    "print(score5)"
   ]
  },
  {
   "cell_type": "markdown",
   "metadata": {},
   "source": [
    "The classifiers are not very accurate with the reduced set but all three seem to work well with the full set. KNN is the best out of the three in terms of making the best prediction though."
   ]
  }
 ],
 "metadata": {
  "kernelspec": {
   "display_name": "Python 3",
   "language": "python",
   "name": "python3"
  },
  "language_info": {
   "codemirror_mode": {
    "name": "ipython",
    "version": 3
   },
   "file_extension": ".py",
   "mimetype": "text/x-python",
   "name": "python",
   "nbconvert_exporter": "python",
   "pygments_lexer": "ipython3",
   "version": "3.7.3"
  }
 },
 "nbformat": 4,
 "nbformat_minor": 2
}
